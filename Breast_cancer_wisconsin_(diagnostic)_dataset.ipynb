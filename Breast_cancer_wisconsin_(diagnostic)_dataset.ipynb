{
  "nbformat": 4,
  "nbformat_minor": 0,
  "metadata": {
    "colab": {
      "name": "Breast cancer wisconsin (diagnostic) dataset.ipynb",
      "provenance": [],
      "collapsed_sections": [],
      "include_colab_link": true
    },
    "kernelspec": {
      "name": "python3",
      "display_name": "Python 3"
    }
  },
  "cells": [
    {
      "cell_type": "markdown",
      "metadata": {
        "id": "view-in-github",
        "colab_type": "text"
      },
      "source": [
        "<a href=\"https://colab.research.google.com/github/nuramalinadiyana/Breast-cancer-wisconsin/blob/master/Breast_cancer_wisconsin_(diagnostic)_dataset.ipynb\" target=\"_parent\"><img src=\"https://colab.research.google.com/assets/colab-badge.svg\" alt=\"Open In Colab\"/></a>"
      ]
    },
    {
      "cell_type": "markdown",
      "metadata": {
        "id": "XqIaJbe3IHDt",
        "colab_type": "text"
      },
      "source": [
        "Dataset : Breast cancer wisconsin (diagnostic)\n",
        "\n",
        "link : https://scikit-learn.org/stable/datasets/index.html#breast-cancer-wisconsin-diagnostic-dataset\n"
      ]
    },
    {
      "cell_type": "code",
      "metadata": {
        "id": "OxZJjjBdH23L",
        "colab_type": "code",
        "outputId": "9518dc39-3b17-4b2b-8a57-fee048a8a47f",
        "colab": {
          "base_uri": "https://localhost:8080/",
          "height": 34
        }
      },
      "source": [
        "from sklearn import datasets\n",
        "import pandas as pd\n",
        "import numpy as np\n",
        "breast_cancer = datasets.load_breast_cancer()\n",
        "type(breast_cancer)\n"
      ],
      "execution_count": 0,
      "outputs": [
        {
          "output_type": "execute_result",
          "data": {
            "text/plain": [
              "sklearn.utils.Bunch"
            ]
          },
          "metadata": {
            "tags": []
          },
          "execution_count": 11
        }
      ]
    },
    {
      "cell_type": "code",
      "metadata": {
        "id": "VJFdf2wjJR_u",
        "colab_type": "code",
        "outputId": "4521c95a-e7db-4ad9-c1d7-33865876ebed",
        "colab": {
          "base_uri": "https://localhost:8080/",
          "height": 34
        }
      },
      "source": [
        "print (breast_cancer.keys())"
      ],
      "execution_count": 0,
      "outputs": [
        {
          "output_type": "stream",
          "text": [
            "dict_keys(['data', 'target', 'target_names', 'DESCR', 'feature_names', 'filename'])\n"
          ],
          "name": "stdout"
        }
      ]
    },
    {
      "cell_type": "code",
      "metadata": {
        "id": "1jw_XPOkH7Zm",
        "colab_type": "code",
        "outputId": "e2c255eb-b124-48bd-ee1c-a47052bc44f1",
        "colab": {
          "base_uri": "https://localhost:8080/",
          "height": 34
        }
      },
      "source": [
        "breast_cancer['data'].shape"
      ],
      "execution_count": 0,
      "outputs": [
        {
          "output_type": "execute_result",
          "data": {
            "text/plain": [
              "(569, 30)"
            ]
          },
          "metadata": {
            "tags": []
          },
          "execution_count": 2
        }
      ]
    },
    {
      "cell_type": "code",
      "metadata": {
        "id": "rcu14RBMH-c_",
        "colab_type": "code",
        "outputId": "319b16f1-6168-4e9a-859c-c206d70c5170",
        "colab": {
          "base_uri": "https://localhost:8080/",
          "height": 34
        }
      },
      "source": [
        "breast_cancer['target'].shape"
      ],
      "execution_count": 0,
      "outputs": [
        {
          "output_type": "execute_result",
          "data": {
            "text/plain": [
              "(569,)"
            ]
          },
          "metadata": {
            "tags": []
          },
          "execution_count": 3
        }
      ]
    },
    {
      "cell_type": "code",
      "metadata": {
        "id": "_OvtiKcgIBiN",
        "colab_type": "code",
        "outputId": "b725c5ee-2f5e-468f-e6a4-657f2bef9f06",
        "colab": {
          "base_uri": "https://localhost:8080/",
          "height": 34
        }
      },
      "source": [
        "from sklearn.neighbors import KNeighborsClassifier\n",
        "from sklearn.model_selection import train_test_split\n",
        "\n",
        "X =breast_cancer.data\n",
        "y = breast_cancer.target\n",
        "\n",
        "X_train, X_test, y_train, y_test =train_test_split(X, y, test_size=0.3, random_state=21, stratify=y)\n",
        "knn = KNeighborsClassifier(n_neighbors=6)\n",
        "knn.fit(X_train, y_train)\n",
        "print(knn.score(X_test, y_test))\n"
      ],
      "execution_count": 0,
      "outputs": [
        {
          "output_type": "stream",
          "text": [
            "0.9239766081871345\n"
          ],
          "name": "stdout"
        }
      ]
    },
    {
      "cell_type": "markdown",
      "metadata": {
        "id": "pmZcwsCMIcQA",
        "colab_type": "text"
      },
      "source": [
        "When k = 6, Accuracy = 92.40 %"
      ]
    },
    {
      "cell_type": "code",
      "metadata": {
        "id": "omPIMzkfIEc3",
        "colab_type": "code",
        "outputId": "b614941f-0f06-4b7f-c0a7-977559e78e67",
        "colab": {
          "base_uri": "https://localhost:8080/",
          "height": 34
        }
      },
      "source": [
        "from sklearn.neighbors import KNeighborsClassifier\n",
        "from sklearn.model_selection import train_test_split\n",
        "\n",
        "X =breast_cancer.data\n",
        "y = breast_cancer.target\n",
        "\n",
        "X_train, X_test, y_train, y_test =train_test_split(X, y, test_size=0.3, random_state=21, stratify=y)\n",
        "knn = KNeighborsClassifier(n_neighbors=2)\n",
        "knn.fit(X_train, y_train)\n",
        "print(knn.score(X_test, y_test))"
      ],
      "execution_count": 0,
      "outputs": [
        {
          "output_type": "stream",
          "text": [
            "0.8947368421052632\n"
          ],
          "name": "stdout"
        }
      ]
    },
    {
      "cell_type": "markdown",
      "metadata": {
        "id": "cgy5eAxjIlBq",
        "colab_type": "text"
      },
      "source": [
        "When k = 2, Accuracy = 89.50%"
      ]
    },
    {
      "cell_type": "code",
      "metadata": {
        "id": "siGxPfL0IrVx",
        "colab_type": "code",
        "outputId": "f3273abd-738d-4be6-b471-1f5847c067ae",
        "colab": {
          "base_uri": "https://localhost:8080/",
          "height": 34
        }
      },
      "source": [
        "from sklearn.neighbors import KNeighborsClassifier\n",
        "from sklearn.model_selection import train_test_split\n",
        "\n",
        "X =breast_cancer.data\n",
        "y = breast_cancer.target\n",
        "\n",
        "X_train, X_test, y_train, y_test =train_test_split(X, y, test_size=0.3, random_state=21, stratify=y)\n",
        "knn = KNeighborsClassifier(n_neighbors=12)\n",
        "knn.fit(X_train, y_train)\n",
        "print(knn.score(X_test, y_test))"
      ],
      "execution_count": 0,
      "outputs": [
        {
          "output_type": "stream",
          "text": [
            "0.9122807017543859\n"
          ],
          "name": "stdout"
        }
      ]
    },
    {
      "cell_type": "markdown",
      "metadata": {
        "id": "F7yhIUz9I2iF",
        "colab_type": "text"
      },
      "source": [
        "When k = 12, Accuracy = 91.23%"
      ]
    }
  ]
}